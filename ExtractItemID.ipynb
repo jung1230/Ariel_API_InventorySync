{
 "cells": [
  {
   "cell_type": "code",
   "execution_count": 18,
   "id": "e2120cd8",
   "metadata": {},
   "outputs": [
    {
     "name": "stdout",
     "output_type": "stream",
     "text": [
      "Item Numbers:\n",
      "AC508AP-00 24oz\n",
      "AC508AP-02 24oz\n",
      "AC508AP-03 24oz\n",
      "AC508AP-05 24oz\n",
      "AC508AP-06 24oz\n",
      "AC508AP-07 24oz\n",
      "AC508AP-10 24oz\n",
      "AC508AP-11 24oz\n",
      "AC508AP-16 24oz\n",
      "AC508AP-21 24oz\n",
      "nan\n",
      "AC108-00 21oz\n",
      "AC108-01 21oz\n",
      "AC108-02 21oz\n",
      "AC108-06 21oz\n",
      "nan\n",
      "AC603-00 21oz\n",
      "AC603-02 21oz\n",
      "AC603-03 21oz\n",
      "AC603-06 21oz\n",
      "\n",
      "\n",
      "\n",
      "Item Numbers:\n",
      "AC508AP-00 24oz\n",
      "AC508AP-02 24oz\n",
      "AC508AP-03 24oz\n",
      "AC508AP-05 24oz\n",
      "AC508AP-06 24oz\n",
      "AC508AP-07 24oz\n",
      "AC508AP-10 24oz\n",
      "AC508AP-11 24oz\n",
      "AC508AP-16 24oz\n",
      "AC508AP-21 24oz\n",
      "AC108-00 21oz\n",
      "AC108-01 21oz\n",
      "AC108-02 21oz\n",
      "AC108-06 21oz\n",
      "AC603-00 21oz\n",
      "AC603-02 21oz\n",
      "AC603-03 21oz\n",
      "AC603-06 21oz\n",
      "AC603-10 21oz\n",
      "AC268AP-00 30oz\n"
     ]
    }
   ],
   "source": [
    "import pandas as pd\n",
    "\n",
    "file = 'Inventory_Report.csv'\n",
    "df = pd.read_csv(file)\n",
    "\n",
    "# print the first row of the DataFrame\n",
    "# print(df.head())\n",
    "\n",
    "# get the \"AC USA\\r\\nItem #\" column information\n",
    "item_numbers = df['AC USA\\r\\nItem #'].tolist()\n",
    "\n",
    "print(\"Item Numbers:\")\n",
    "for item in item_numbers[:20]:\n",
    "    print(item) \n",
    "\n",
    "cleaned_item_numbers = []\n",
    "# drop nan \n",
    "for item in item_numbers:\n",
    "    if not pd.isna(item):\n",
    "        cleaned_item_numbers.append(item)\n",
    "\n",
    "print(\"\\n\\n\\nItem Numbers:\")\n",
    "for item in cleaned_item_numbers[:20]:\n",
    "    print(item) \n",
    "    "
   ]
  },
  {
   "cell_type": "code",
   "execution_count": 26,
   "id": "3afefc9a",
   "metadata": {},
   "outputs": [
    {
     "name": "stdout",
     "output_type": "stream",
     "text": [
      "{'ACB609', 'ACB610', 'AC566', 'AC202A', 'AC9991', 'AC130C', 'AC108', 'AC908', 'AC503AP', 'APB002', 'PB07', 'TPU607', 'AC9988', 'AC303', 'PB02', 'AC901', 'AC9992', 'AC909', 'PB01', 'TPU601', 'AC203AP', 'TPU602', 'AC223', 'TPU609', 'AC831', 'PB06', 'TPU603', 'AC102', 'AC269', 'AC568', 'BLK001', 'ACB665', 'TPU608', 'AC116', 'AC829', 'AC205AP', 'AC231', 'AC890', 'AC9975', 'AC268AP', 'AC9990', 'AC258', 'AC206AP', 'TPU600', 'AC107', 'PB10', 'AC228AP', 'PB09', 'AC206A', 'TPU605', 'AC9985', 'AC828', 'ACB665F', 'AC232', 'AC298AP', 'AC267', 'AC278', 'AC268', 'AC9983', 'AC9986', 'AC603', 'AC228', 'AC826', 'AC9987', 'AC567', 'AC823', 'PB03', 'AC225', 'APB003', 'AC9998', 'ACB611', 'AC9981', 'AC825', 'AC508AP', 'TPU610', 'AC298', 'PB05', 'AC9995', 'TPU606'}\n"
     ]
    }
   ],
   "source": [
    "def get_word_before_first_dash(item_number):\n",
    "    if '-' in item_number:\n",
    "        return item_number.split('-')[0].strip()\n",
    "    else:\n",
    "        return item_number.strip()\n",
    "    \n",
    "def get_word_before_first_space(item_number):\n",
    "    if ' ' in item_number:\n",
    "        return item_number.split(' ')[0].strip()\n",
    "    else:\n",
    "        return item_number.strip()\n",
    "\n",
    "cleaned_item_numbers = [get_word_before_first_dash(item) for item in cleaned_item_numbers]\n",
    "cleaned_item_numbers = [get_word_before_first_space(item) for item in cleaned_item_numbers]\n",
    "\n",
    "# remove duplicates\n",
    "cleaned_item_numbers = set(cleaned_item_numbers)\n",
    "\n",
    "# remove specific unwanted entry\n",
    "cleaned_item_numbers.discard('BAMBOO')\n",
    "cleaned_item_numbers.discard('ITEM')\n",
    "cleaned_item_numbers.discard('AC')\n",
    "cleaned_item_numbers.discard('SS')\n",
    "cleaned_item_numbers.discard('ACB')\n",
    "cleaned_item_numbers.discard('BACKORDER')\n",
    "\n",
    "print(cleaned_item_numbers)"
   ]
  },
  {
   "cell_type": "code",
   "execution_count": 27,
   "id": "109b0d10",
   "metadata": {},
   "outputs": [],
   "source": [
    "import json\n",
    "\n",
    "item_ids_list = sorted(cleaned_item_numbers)\n",
    "\n",
    "with open('ItemList.json', 'w') as f:\n",
    "    json.dump(item_ids_list, f, indent=2)\n"
   ]
  }
 ],
 "metadata": {
  "kernelspec": {
   "display_name": "base",
   "language": "python",
   "name": "python3"
  },
  "language_info": {
   "codemirror_mode": {
    "name": "ipython",
    "version": 3
   },
   "file_extension": ".py",
   "mimetype": "text/x-python",
   "name": "python",
   "nbconvert_exporter": "python",
   "pygments_lexer": "ipython3",
   "version": "3.12.7"
  }
 },
 "nbformat": 4,
 "nbformat_minor": 5
}
